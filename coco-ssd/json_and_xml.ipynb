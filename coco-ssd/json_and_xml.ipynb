{
 "cells": [
  {
   "cell_type": "code",
   "execution_count": 1,
   "metadata": {},
   "outputs": [
    {
     "name": "stdout",
     "output_type": "stream",
     "text": [
      "<?xml version=\"1.0\" encoding=\"UTF-8\"?>\n",
      "<girlgroup>\n",
      "  <name alias=\"GFRIEND\">여자친구</name>\n",
      "  <members>\n",
      "    <member>소원</member>\n",
      "    <member>예린</member>\n",
      "    <member>은하</member>\n",
      "    <member>유주</member>\n",
      "    <member>신비</member>\n",
      "    <member>엄지</member>\n",
      "  </members>\n",
      "  <albums>\n",
      "    <album order=\"EP 1집\">Season of Glass</album>\n",
      "    <album order=\"EP 2집\">Flower Bud</album>\n",
      "    <album order=\"EP 3집\">Snowflake</album>\n",
      "    <album order=\"정규 1집\">LOL</album>\n",
      "  </albums>\n",
      "</girlgroup>\n",
      "\n"
     ]
    }
   ],
   "source": [
    "from lxml import etree\n",
    "\n",
    "# Data\n",
    "members =  [\"소원\", \"예린\", \"은하\", \"유주\", \"신비\", \"엄지\"]\n",
    "albums = [ [\"EP 1집\", \"Season of Glass\"],  [\"EP 2집\", \"Flower Bud\"],\n",
    "           [\"EP 3집\", \"Snowflake\"],        [\"정규 1집\", \"LOL\"] ]\n",
    "\n",
    "# Create XML \n",
    "root = etree.Element(\"girlgroup\")\n",
    "\n",
    "# Set name\n",
    "x_name = etree.Element(\"name\")\n",
    "x_name.text = \"여자친구\"\n",
    "x_name.set(\"alias\", \"GFRIEND\")\n",
    "\n",
    "# Set members\n",
    "x_members = etree.Element(\"members\")\n",
    "for member in members:\n",
    "    x_member = etree.SubElement(x_members, \"member\")\n",
    "    x_member.text = member\n",
    "\n",
    "# Set albums\n",
    "x_albums = etree.Element(\"albums\")\n",
    "for album in albums:\n",
    "    x_album = etree.SubElement(x_albums, \"album\")\n",
    "    x_album.text = album[1]\n",
    "    x_album.set(\"order\", album[0])\n",
    "\n",
    "# Append elements\n",
    "root.append(x_name)\n",
    "root.append(x_members)\n",
    "root.append(x_albums)\n",
    "\n",
    "# Print\n",
    "x_output = etree.tostring(root, pretty_print=True, encoding='UTF-8')\n",
    "x_header = '<?xml version=\"1.0\" encoding=\"UTF-8\"?>\\n'\n",
    "print(x_header + x_output.decode('utf-8'))\n",
    "\n",
    "# Write to xml file\n",
    "f=open('sample.xml', 'w', encoding=\"utf-8\")\n",
    "f.write(x_header + x_output.decode(\"utf-8\"))\n",
    "f.close()"
   ]
  },
  {
   "cell_type": "code",
   "execution_count": 2,
   "metadata": {},
   "outputs": [
    {
     "name": "stdout",
     "output_type": "stream",
     "text": [
      "['소원', '예린', '은하', '유주', '신비', '엄지']\n"
     ]
    }
   ],
   "source": [
    "from pprint import pprint\n",
    "import xml.etree.ElementTree as ET\n",
    "\n",
    "file = \"./sample.xml\"\n",
    "objects = ET.parse(file)\n",
    "members = []\n",
    "root = objects.getroot()\n",
    "\n",
    "for child in root.iter():\n",
    "    tag = child.tag\n",
    "    if tag == \"member\":\n",
    "        members.append(str(child.text))\n",
    "\n",
    "pprint(members)"
   ]
  },
  {
   "cell_type": "code",
   "execution_count": 3,
   "metadata": {},
   "outputs": [
    {
     "name": "stdout",
     "output_type": "stream",
     "text": [
      "{\n",
      "\t\"name\": \"여자친구\",\n",
      "\t\"members\": [\n",
      "\t\t\"소원\",\n",
      "\t\t\"예린\",\n",
      "\t\t\"은하\",\n",
      "\t\t\"유주\",\n",
      "\t\t\"신비\",\n",
      "\t\t\"엄지\"\n",
      "\t],\n",
      "\t\"albums\": {\n",
      "\t\t\"EP 1집\": \"Season of Glass\",\n",
      "\t\t\"EP 2집\": \"Flower Bud\",\n",
      "\t\t\"EP 3집\": \"Snowflake\",\n",
      "\t\t\"정규 1집\": \"LOL\",\n",
      "\t\t\"EP 4집\": \"THE AWAKENING\"\n",
      "\t}\n",
      "}\n"
     ]
    }
   ],
   "source": [
    "import json\n",
    "from collections import OrderedDict\n",
    " \n",
    "# Ready for data\n",
    "group_data = OrderedDict()\n",
    "albums = OrderedDict()\n",
    " \n",
    "group_data[\"name\"] = \"여자친구\"\n",
    "group_data[\"members\"] = [\"소원\", \"예린\", \"은하\", \"유주\", \"신비\", \"엄지\"]\n",
    " \n",
    "albums[\"EP 1집\"] = \"Season of Glass\"\n",
    "albums[\"EP 2집\"] = \"Flower Bud\"\n",
    "albums[\"EP 3집\"] = \"Snowflake\"\n",
    "albums[\"정규 1집\"] = \"LOL\"\n",
    "albums[\"EP 4집\"] = \"THE AWAKENING\"\n",
    " \n",
    "group_data[\"albums\"] = albums\n",
    " \n",
    "# Print JSON\n",
    "print(json.dumps(group_data, ensure_ascii=False, indent=\"\\t\") )\n",
    "\n",
    "# Write JSON\n",
    "with open('./sample.json', 'w', encoding=\"utf-8\") as make_file:\n",
    "    json.dump(group_data, make_file, ensure_ascii=False, indent=\"\\t\")"
   ]
  },
  {
   "cell_type": "code",
   "execution_count": null,
   "metadata": {},
   "outputs": [],
   "source": []
  }
 ],
 "metadata": {
  "kernelspec": {
   "display_name": "Python 3",
   "language": "python",
   "name": "python3"
  },
  "language_info": {
   "codemirror_mode": {
    "name": "ipython",
    "version": 3
   },
   "file_extension": ".py",
   "mimetype": "text/x-python",
   "name": "python",
   "nbconvert_exporter": "python",
   "pygments_lexer": "ipython3",
   "version": "3.6.8"
  }
 },
 "nbformat": 4,
 "nbformat_minor": 2
}
