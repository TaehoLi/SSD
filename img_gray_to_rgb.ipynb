{
 "cells": [
  {
   "cell_type": "code",
   "execution_count": 1,
   "metadata": {},
   "outputs": [],
   "source": [
    "import glob\n",
    "import os\n",
    "\n",
    "path = \"./IMAGES/*\"\n",
    "file_list = glob.glob(path)\n",
    "file_list_jpg2 = [file for file in file_list if file.endswith(\".jpg\")]\n",
    "\n",
    "\n",
    "path = \"./IMAGES\"\n",
    "file_list = os.listdir(path)\n",
    "file_list_jpg3 = [file for file in file_list if file.endswith(\".jpg\")]"
   ]
  },
  {
   "cell_type": "code",
   "execution_count": 2,
   "metadata": {},
   "outputs": [
    {
     "name": "stdout",
     "output_type": "stream",
     "text": [
      "(200, 200, 3)\n"
     ]
    }
   ],
   "source": [
    "import cv2\n",
    "import glob\n",
    "\n",
    "path = \"./IMAGES_COLOR/*\"\n",
    "file_list = glob.glob(path)\n",
    "file_list_jpg = [file for file in file_list if file.endswith(\".jpg\")]\n",
    "\n",
    "for i in file_list_jpg:\n",
    "    gray_img = cv2.imread(i, 0)\n",
    "    color_img = cv2.cvtColor(gray_img, cv2.COLOR_GRAY2RGB)\n",
    "    cv2.imwrite(i, color_img)\n",
    "    \n",
    "print(color_img.shape)"
   ]
  },
  {
   "cell_type": "code",
   "execution_count": null,
   "metadata": {},
   "outputs": [],
   "source": []
  }
 ],
 "metadata": {
  "kernelspec": {
   "display_name": "Python 3",
   "language": "python",
   "name": "python3"
  },
  "language_info": {
   "codemirror_mode": {
    "name": "ipython",
    "version": 3
   },
   "file_extension": ".py",
   "mimetype": "text/x-python",
   "name": "python",
   "nbconvert_exporter": "python",
   "pygments_lexer": "ipython3",
   "version": "3.6.8"
  }
 },
 "nbformat": 4,
 "nbformat_minor": 2
}
