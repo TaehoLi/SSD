{
 "cells": [
  {
   "cell_type": "code",
   "execution_count": null,
   "metadata": {},
   "outputs": [],
   "source": [
    "import os\n",
    "os.chdir('utils')\n",
    "from image_print import image_print\n",
    "os.chdir('..')\n",
    "%matplotlib inline\n",
    "\n",
    "\n",
    "net_type = \"vgg16-ssd\"\n",
    "folder = \"/home/user/ssd1/taeholee/SSD/coco-ssd/\"\n",
    "model_path = folder + \"models/vgg16-ssd-Epoch-3-Loss-4.73435.pth\"\n",
    "label_path = folder + \"models/coco-model-labels.txt\"\n",
    "data_dir = \"/home/user/hdd/coco/\"\n",
    "test_txt = folder + \"data/test.txt\"\n",
    "how_many_images = 2\n",
    "\n",
    "print(\"Use model:\", model_path, \"\\n\")\n",
    "image_print(net_type=net_type,\n",
    "            model_path=model_path,\n",
    "            label_path=label_path,\n",
    "            data_dir=data_dir,\n",
    "            test_txt=test_txt,\n",
    "            how_many_images=how_many_images)\n"
   ]
  },
  {
   "cell_type": "code",
   "execution_count": null,
   "metadata": {},
   "outputs": [],
   "source": []
  }
 ],
 "metadata": {
  "kernelspec": {
   "display_name": "Python 3",
   "language": "python",
   "name": "python3"
  },
  "language_info": {
   "codemirror_mode": {
    "name": "ipython",
    "version": 3
   },
   "file_extension": ".py",
   "mimetype": "text/x-python",
   "name": "python",
   "nbconvert_exporter": "python",
   "pygments_lexer": "ipython3",
   "version": "3.6.8"
  }
 },
 "nbformat": 4,
 "nbformat_minor": 2
}
