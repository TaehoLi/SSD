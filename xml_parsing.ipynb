{
 "cells": [
  {
   "cell_type": "markdown",
   "metadata": {},
   "source": [
    "## 1. Prepare data"
   ]
  },
  {
   "cell_type": "code",
   "execution_count": 17,
   "metadata": {},
   "outputs": [
    {
     "name": "stdout",
     "output_type": "stream",
     "text": [
      "67\n",
      "57\n"
     ]
    }
   ],
   "source": [
    "import xml.etree.ElementTree as ET\n",
    "import glob\n",
    "\n",
    "\n",
    "path = \"./NEU-DET/ANNOTATIONS/*\"\n",
    "file_list = glob.glob(path)\n",
    "file_list_xml = [file for file in file_list if file.endswith(\".xml\")]\n",
    "\n",
    "xmin = []\n",
    "ymin = []\n",
    "xmax = []\n",
    "ymax = []\n",
    "width = []\n",
    "height = []\n",
    "\n",
    "\n",
    "for i in file_list_xml:\n",
    "    \n",
    "    try:\n",
    "        where = i\n",
    "        tree = ET.parse(where)\n",
    "        root = tree.getroot()\n",
    "\n",
    "        for child in root.iter():\n",
    "            tag = child.tag\n",
    "            if tag == \"xmin\":\n",
    "                xmin.append(int(child.text))\n",
    "            if tag == \"ymin\":\n",
    "                ymin.append(int(child.text))\n",
    "            if tag == \"xmax\":\n",
    "                xmax.append(int(child.text))\n",
    "            if tag == \"ymax\":\n",
    "                ymax.append(int(child.text))\n",
    "    except:\n",
    "        print(i, \"    <fix this file>\")\n",
    "\n",
    "for i, num in enumerate(xmax):\n",
    "    width.append(xmax[i] - xmin[i])\n",
    "    height.append(ymax[i] - ymin[i])\n",
    "\n",
    "print(width[len(xmax)-1])\n",
    "print(height[len(xmax)-1])"
   ]
  },
  {
   "cell_type": "code",
   "execution_count": null,
   "metadata": {},
   "outputs": [],
   "source": []
  }
 ],
 "metadata": {
  "kernelspec": {
   "display_name": "Python 3",
   "language": "python",
   "name": "python3"
  },
  "language_info": {
   "codemirror_mode": {
    "name": "ipython",
    "version": 3
   },
   "file_extension": ".py",
   "mimetype": "text/x-python",
   "name": "python",
   "nbconvert_exporter": "python",
   "pygments_lexer": "ipython3",
   "version": "3.6.8"
  }
 },
 "nbformat": 4,
 "nbformat_minor": 2
}
